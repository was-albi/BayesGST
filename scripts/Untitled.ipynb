{
 "cells": [
  {
   "cell_type": "code",
   "execution_count": 1,
   "id": "6312fdd8",
   "metadata": {},
   "outputs": [],
   "source": [
    "import sys"
   ]
  },
  {
   "cell_type": "code",
   "execution_count": 1,
   "id": "08e29e39",
   "metadata": {},
   "outputs": [
    {
     "name": "stdout",
     "output_type": "stream",
     "text": [
      "/home/alb/Scrivania/Quantum/Projects/BayesGST/virtual_BayesGST/bin/jupyter\r\n"
     ]
    }
   ],
   "source": []
  },
  {
   "cell_type": "code",
   "execution_count": 2,
   "id": "f07160c8",
   "metadata": {},
   "outputs": [
    {
     "data": {
      "text/plain": [
       "['/home/alb/Scrivania/Quantum/Projects/BayesGST/scripts',\n",
       " '/home/alb/Scrivania/Quantum/Projects/BayesGST/virtual_BayesGST',\n",
       " '/home/alb/Scrivania/Quantum/Projects/BayesGST/virtual_BayesGST/lib/python37.zip',\n",
       " '/home/alb/Scrivania/Quantum/Projects/BayesGST/virtual_BayesGST/lib/python3.7',\n",
       " '/home/alb/Scrivania/Quantum/Projects/BayesGST/virtual_BayesGST/lib/python3.7/lib-dynload',\n",
       " '/home/alb/anaconda3/lib/python3.7',\n",
       " '',\n",
       " '/home/alb/Scrivania/Quantum/Projects/BayesGST/virtual_BayesGST/lib/python3.7/site-packages',\n",
       " '/home/alb/Scrivania/Quantum/Projects/BayesGST',\n",
       " '/home/alb/Scrivania/Quantum/Projects/BayesGST/virtual_BayesGST/lib/python3.7/site-packages/IPython/extensions',\n",
       " '/home/alb/.ipython']"
      ]
     },
     "execution_count": 2,
     "metadata": {},
     "output_type": "execute_result"
    }
   ],
   "source": [
    "sys.path"
   ]
  },
  {
   "cell_type": "code",
   "execution_count": 3,
   "id": "3c702017",
   "metadata": {},
   "outputs": [
    {
     "name": "stdout",
     "output_type": "stream",
     "text": [
      "test\n"
     ]
    }
   ],
   "source": [
    "from src import test"
   ]
  }
 ],
 "metadata": {
  "kernelspec": {
   "display_name": "Python 3 (ipykernel)",
   "language": "python",
   "name": "python3"
  },
  "language_info": {
   "codemirror_mode": {
    "name": "ipython",
    "version": 3
   },
   "file_extension": ".py",
   "mimetype": "text/x-python",
   "name": "python",
   "nbconvert_exporter": "python",
   "pygments_lexer": "ipython3",
   "version": "3.7.4"
  }
 },
 "nbformat": 4,
 "nbformat_minor": 5
}
